{
 "cells": [
  {
   "cell_type": "markdown",
   "metadata": {},
   "source": [
    "2019.06.07 \n",
    "\n",
    "I Added 'Psuedo Labeling' Function"
   ]
  },
  {
   "cell_type": "code",
   "execution_count": 1,
   "metadata": {
    "_cell_guid": "b1076dfc-b9ad-4769-8c92-a6c4dae69d19",
    "_uuid": "8f2839f25d086af736a60e9eeb907d3b93b6e0e5"
   },
   "outputs": [
    {
     "data": {
      "text/plain": [
       "['train.csv', 'sample_submission.csv', 'test.csv']"
      ]
     },
     "execution_count": 1,
     "metadata": {},
     "output_type": "execute_result"
    }
   ],
   "source": [
    "import os, gc, time, datetime, random\n",
    "import pandas as pd\n",
    "import numpy as np\n",
    "from tqdm import tqdm_notebook as tqdm\n",
    "import matplotlib.pyplot as plt\n",
    "import seaborn as sns\n",
    "\n",
    "from sklearn.model_selection import StratifiedKFold, train_test_split\n",
    "from sklearn.preprocessing import StandardScaler, PolynomialFeatures\n",
    "from sklearn.metrics import roc_auc_score\n",
    "from sklearn.linear_model import LogisticRegression\n",
    "from sklearn.svm import SVC, NuSVC\n",
    "from sklearn.neighbors import KNeighborsClassifier\n",
    "from sklearn.decomposition import PCA\n",
    "from sklearn.neural_network import MLPClassifier\n",
    "from sklearn.ensemble import VotingClassifier\n",
    "from sklearn.discriminant_analysis import QuadraticDiscriminantAnalysis\n",
    "from sklearn.feature_selection import VarianceThreshold\n",
    "\n",
    "import warnings\n",
    "warnings.filterwarnings(\"ignore\")\n",
    "%matplotlib inline\n",
    "pd.set_option('max_columns', 9999)\n",
    "pd.set_option('max_rows', 9999)\n",
    "\n",
    "start = time.time()\n",
    "\n",
    "os.listdir('../input')"
   ]
  },
  {
   "cell_type": "code",
   "execution_count": 2,
   "metadata": {
    "_cell_guid": "79c7e3d0-c299-4dcb-8224-4455121ee9b0",
    "_kg_hide-input": true,
    "_uuid": "d629ff2d2480ee46fbb7e2d37f6b5fab8052498a"
   },
   "outputs": [],
   "source": [
    "def load_data(nrows=None):\n",
    "    train = pd.read_csv('../input/train.csv', nrows=nrows)\n",
    "    test = pd.read_csv('../input/test.csv')\n",
    "\n",
    "    print('Train Shape: {}'.format(train.shape))\n",
    "    print('Test Shape: {}'.format(test.shape))\n",
    "    \n",
    "    return train, test"
   ]
  },
  {
   "cell_type": "code",
   "execution_count": 3,
   "metadata": {
    "_kg_hide-input": true
   },
   "outputs": [],
   "source": [
    "def trainer(train, test, cv, _scaler=True, pca=False, variance=False, model=None, plot=True):\n",
    "    _train, _test = train.copy(), test.copy()\n",
    "    _test['target'] = -1\n",
    "    cols = [col for col in _train.columns if not col in ['id', 'target', 'wheezy-copper-turtle-magic']]\n",
    "    \n",
    "    # Setting\n",
    "    preds = np.zeros(len(_test))\n",
    "    oof = np.zeros(len(_train))\n",
    "    \n",
    "    for i in tqdm(range(512)):\n",
    "        train_2 = _train[_train['wheezy-copper-turtle-magic'] == i]\n",
    "        test_2 = _test[_test['wheezy-copper-turtle-magic'] == i]\n",
    "        len_train = len(train_2)\n",
    "        Y = train_2['target'].reset_index(drop=True).values\n",
    "        train_index = train_2.index\n",
    "        test_index = test_2.index      \n",
    "        \n",
    "        # Merge Train and Test Data\n",
    "        merged_data = pd.concat([train_2, test_2], axis=0).reset_index(drop=True)[cols].values\n",
    "        \n",
    "        # Dimensionality Reduction\n",
    "        if pca:\n",
    "            clf = PCA(svd_solver='full',n_components='mle')\n",
    "            _X = clf.fit_transform(merged_data)\n",
    "        elif variance:\n",
    "            clf = VarianceThreshold(threshold=1.5)\n",
    "            _X = clf.fit_transform(merged_data)\n",
    "        else:\n",
    "            _X = merged_data\n",
    "            \n",
    "        # Scaler - Standardization\n",
    "        if _scaler:\n",
    "            _scaler = StandardScaler()\n",
    "            _X = _scaler.fit_transform(_X)\n",
    "        \n",
    "        # Divide Train, Test data\n",
    "        X = _X[:len_train]\n",
    "        test_2 = _X[len_train:]\n",
    "        del merged_data, _X\n",
    "        gc.collect()\n",
    "        \n",
    "        # Model\n",
    "        for i, (trn_index, val_index) in enumerate(cv.split(X, Y)):\n",
    "            X_trn, X_val = X[trn_index], X[val_index]\n",
    "            Y_trn, Y_val = Y[trn_index], Y[val_index]\n",
    "                \n",
    "            model.fit(X_trn, Y_trn)\n",
    "            oof[train_index[val_index]] += model.predict_proba(X_val)[:,1]\n",
    "            preds[test_index] += model.predict_proba(test_2)[:,1] / cv.n_splits\n",
    "    \n",
    "    oof_df = pd.DataFrame({\n",
    "        'target': _train['target'],\n",
    "        'oof': oof\n",
    "    })\n",
    "    \n",
    "    oof_df_0 = oof_df[oof_df['target'] == 0]\n",
    "    oof_df_1 = oof_df[oof_df['target'] == 1]\n",
    "    \n",
    "    # Plotting Histogram\n",
    "    if plot:\n",
    "        fig, axes = plt.subplots(nrows=1, ncols=2, figsize=(12, 4))\n",
    "        sns.distplot(np.array(preds), kde=False, bins=25, ax=axes[0])\n",
    "        axes[0].set_title('Prediction Histogram')\n",
    "\n",
    "        sns.kdeplot(oof_df_0['oof'].values, shade=True, color=\"b\", label='0', ax=axes[1])\n",
    "        sns.kdeplot(oof_df_1['oof'].values, shade=True, color=\"r\", label='1', ax=axes[1])\n",
    "        axes[1].set_title('OOF KdePlots')\n",
    "        plt.show()\n",
    "    \n",
    "        # Scoring\n",
    "        auc = roc_auc_score(_train['target'], oof)\n",
    "        print('AUC: {:.3f}'.format(auc))\n",
    "    \n",
    "    return np.array(preds), oof"
   ]
  },
  {
   "cell_type": "code",
   "execution_count": 4,
   "metadata": {},
   "outputs": [],
   "source": [
    "def PsuedoLabeling(train, test, _min=0.01, _max=0.99):\n",
    "    _train = train.copy()\n",
    "    _test = test.copy()\n",
    "    # First Model\n",
    "#     print('Before Psuedo Labeling Train Data Shape: {}'.format(train.shape))\n",
    "    qda_params = {\n",
    "        'reg_param': random.uniform(0.01, 0.60)\n",
    "    }\n",
    "    cv = StratifiedKFold(n_splits=15)\n",
    "    model = QuadraticDiscriminantAnalysis(**qda_params)\n",
    "    preds, oof = trainer(_train, _test, cv, _scaler=False, variance=True, model=model, plot=False)\n",
    "    \n",
    "    _test['target'] = preds\n",
    "    test_0 = _test[_test['target'] < _min]\n",
    "    test_0['target'] = 0\n",
    "    test_1 = _test[_test['target'] > _max]\n",
    "    test_1['target'] = 1\n",
    "    \n",
    "    train = pd.concat([train, test_0], axis=0).reset_index(drop=True)\n",
    "    train = pd.concat([train, test_1], axis=0).reset_index(drop=True)\n",
    "    \n",
    "    print('After Psuedo Labeling Train Data Shape: {}'.format(train.shape))\n",
    "    \n",
    "    return train"
   ]
  },
  {
   "cell_type": "code",
   "execution_count": 5,
   "metadata": {},
   "outputs": [
    {
     "name": "stdout",
     "output_type": "stream",
     "text": [
      "Train Shape: (262144, 258)\n",
      "Test Shape: (131073, 257)\n"
     ]
    },
    {
     "data": {
      "application/vnd.jupyter.widget-view+json": {
       "model_id": "58cabd9ec48a41139533c5b21682e9c9",
       "version_major": 2,
       "version_minor": 0
      },
      "text/plain": [
       "HBox(children=(IntProgress(value=0, max=512), HTML(value='')))"
      ]
     },
     "metadata": {},
     "output_type": "display_data"
    },
    {
     "name": "stdout",
     "output_type": "stream",
     "text": [
      "\n",
      "After Psuedo Labeling Train Data Shape: (371285, 258)\n"
     ]
    }
   ],
   "source": [
    "# Loading Train/Test Data\n",
    "train, test = load_data()\n",
    "train = PsuedoLabeling(train, test, _min=0.01, _max=0.99)"
   ]
  },
  {
   "cell_type": "code",
   "execution_count": 6,
   "metadata": {},
   "outputs": [],
   "source": [
    "# Setting Parameter\n",
    "lr_params = {\n",
    "    'solver': 'lbfgs',\n",
    "    'penalty': 'l2',\n",
    "    'C': 0.1\n",
    "}\n",
    "\n",
    "svc_params = {\n",
    "    'probability': True,\n",
    "    'kernel': 'poly',\n",
    "    'degree': 4,\n",
    "    'gamma': 'auto',\n",
    "}\n",
    "\n",
    "nusvc_params = {\n",
    "    'probability': True,\n",
    "    'kernel': 'poly',\n",
    "    'degree': 4,\n",
    "    'gamma': 'auto',\n",
    "    'coef0': 0.053,\n",
    "    'nu': 0.59\n",
    "}\n",
    "\n",
    "knn_params = {\n",
    "    'n_neighbors': 17,\n",
    "    'p': 2.9\n",
    "}\n",
    "\n",
    "mlp_params = {\n",
    "    'activation': 'relu',\n",
    "    'solver': 'lbfgs',\n",
    "    'tol': 1e-6,\n",
    "    'hidden_layer_sizes': (250, )\n",
    "}\n",
    "\n",
    "qda_params = {\n",
    "    'reg_param': 0.111\n",
    "}"
   ]
  },
  {
   "cell_type": "code",
   "execution_count": 7,
   "metadata": {},
   "outputs": [
    {
     "data": {
      "application/vnd.jupyter.widget-view+json": {
       "model_id": "e6695afc795a48f1bc1b0dd156cb02d7",
       "version_major": 2,
       "version_minor": 0
      },
      "text/plain": [
       "HBox(children=(IntProgress(value=0, max=512), HTML(value='')))"
      ]
     },
     "metadata": {},
     "output_type": "display_data"
    },
    {
     "name": "stdout",
     "output_type": "stream",
     "text": [
      "\n"
     ]
    },
    {
     "data": {
      "image/png": "[encoded data removed]",
      "text/plain": [
       "<Figure size 864x288 with 2 Axes>"
      ]
     },
     "metadata": {
      "needs_background": "light"
     },
     "output_type": "display_data"
    },
    {
     "name": "stdout",
     "output_type": "stream",
     "text": [
      "AUC: 0.976\n"
     ]
    }
   ],
   "source": [
    "estimators = [\n",
    "    ('lr', LogisticRegression(**lr_params)),\n",
    "    ('svc', SVC(**svc_params)),\n",
    "    ('nusvc', NuSVC(**nusvc_params)),\n",
    "    ('knn', KNeighborsClassifier(**knn_params)),\n",
    "    ('mlp', MLPClassifier(**mlp_params)),\n",
    "    ('qda', QuadraticDiscriminantAnalysis(**qda_params))\n",
    "]\n",
    "\n",
    "weights = [1, 2, 3, 1, 2, 4]\n",
    "model = VotingClassifier(estimators, voting='soft', weights=weights)\n",
    "\n",
    "cv = StratifiedKFold(n_splits=10, random_state=46)\n",
    "\n",
    "preds, oof = trainer(train, test, cv, model=model, pca=True)"
   ]
  },
  {
   "cell_type": "code",
   "execution_count": 8,
   "metadata": {},
   "outputs": [],
   "source": [
    "# submit\n",
    "submit = pd.read_csv('../input/sample_submission.csv')\n",
    "submit['target'] = preds\n",
    "# submit.to_csv('submission.csv', index=False)"
   ]
  },
  {
   "cell_type": "code",
   "execution_count": 9,
   "metadata": {},
   "outputs": [
    {
     "name": "stdout",
     "output_type": "stream",
     "text": [
      "This Kernel Runnnig Time: 1:42:29.795544\n"
     ]
    }
   ],
   "source": [
    "end = time.time()\n",
    "t = datetime.timedelta(seconds=end - start)\n",
    "\n",
    "print('This Kernel Runnnig Time: {}'.format(str(t)))"
   ]
  }
 ],
 "metadata": {
  "kernelspec": {
   "display_name": "Python 3",
   "language": "python",
   "name": "python3"
  },
  "language_info": {
   "codemirror_mode": {
    "name": "ipython",
    "version": 3
   },
   "file_extension": ".py",
   "mimetype": "text/x-python",
   "name": "python",
   "nbconvert_exporter": "python",
   "pygments_lexer": "ipython3",
   "version": "3.7.3"
  }
 },
 "nbformat": 4,
 "nbformat_minor": 1
}
