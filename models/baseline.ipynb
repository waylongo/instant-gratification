{
 "cells": [
  {
   "cell_type": "code",
   "execution_count": 1,
   "metadata": {},
   "outputs": [],
   "source": [
    "import numpy as np\n",
    "import pandas as pd\n",
    "from sklearn import svm, neighbors, linear_model, neural_network\n",
    "from sklearn.model_selection import GridSearchCV, train_test_split, StratifiedKFold\n",
    "from sklearn.metrics import roc_auc_score\n",
    "from sklearn.preprocessing import StandardScaler\n",
    "from sklearn.feature_selection import VarianceThreshold\n",
    "from sklearn.discriminant_analysis import QuadraticDiscriminantAnalysis, LinearDiscriminantAnalysis\n",
    "from sklearn.neural_network import MLPClassifier\n",
    "from sklearn.mixture import GaussianMixture\n",
    "from sklearn.covariance import GraphicalLasso\n",
    "from sklearn.svm import SVC, NuSVC\n",
    "from sklearn.pipeline import Pipeline\n",
    "from tqdm import tqdm_notebook\n",
    "import warnings\n",
    "import multiprocessing\n",
    "import matplotlib.pyplot as plt\n",
    "%matplotlib inline\n",
    "from sklearn import manifold\n",
    "from scipy.optimize import minimize  \n",
    "warnings.filterwarnings('ignore')\n"
   ]
  },
  {
   "cell_type": "code",
   "execution_count": 2,
   "metadata": {},
   "outputs": [
    {
     "name": "stdout",
     "output_type": "stream",
     "text": [
      "(262144, 258) (131073, 257)\n"
     ]
    }
   ],
   "source": [
    "train = pd.read_csv('../input/train.csv')\n",
    "test = pd.read_csv('../input/test.csv')\n",
    "cols = [c for c in train.columns if c not in ['id', 'target', 'wheezy-copper-turtle-magic']]\n",
    "print(train.shape, test.shape)"
   ]
  },
  {
   "cell_type": "code",
   "execution_count": 3,
   "metadata": {},
   "outputs": [],
   "source": [
    "def get_mean_cov(x,y):\n",
    "    model = GraphicalLasso()\n",
    "    ones = (y==1).astype(bool)\n",
    "    x2 = x[ones]\n",
    "    model.fit(x2)\n",
    "    p1 = model.precision_\n",
    "    m1 = model.location_\n",
    "    \n",
    "    onesb = (y==0).astype(bool)\n",
    "    x2b = x[onesb]\n",
    "    model.fit(x2b)\n",
    "    p2 = model.precision_\n",
    "    m2 = model.location_\n",
    "    \n",
    "    ms = np.stack([m1,m2])\n",
    "    ps = np.stack([p1,p2])\n",
    "    return ms,ps"
   ]
  },
  {
   "cell_type": "code",
   "execution_count": 11,
   "metadata": {},
   "outputs": [],
   "source": [
    "oof_qda = np.zeros(len(train))\n",
    "oof_mlp = np.zeros(len(train))\n",
    "oof_gmm = np.zeros(len(train))\n",
    "oof_svc = np.zeros(len(train))\n",
    "oof_nusvc = np.zeros(len(train))\n",
    "oof_knn = np.zeros(len(train))\n",
    "oof_lr = np.zeros(len(train))\n",
    "\n",
    "preds_qda = np.zeros(len(test))\n",
    "preds_mlp = np.zeros(len(test))\n",
    "preds_gmm = np.zeros(len(test))\n",
    "preds_svc = np.zeros(len(test))\n",
    "preds_nusvc = np.zeros(len(test))\n",
    "preds_knn = np.zeros(len(test))\n",
    "preds_lr = np.zeros(len(test))"
   ]
  },
  {
   "cell_type": "code",
   "execution_count": 12,
   "metadata": {},
   "outputs": [
    {
     "data": {
      "application/vnd.jupyter.widget-view+json": {
       "model_id": "a0b39949a700402e848a4793a2be9242",
       "version_major": 2,
       "version_minor": 0
      },
      "text/plain": [
       "HBox(children=(IntProgress(value=0, max=512), HTML(value='')))"
      ]
     },
     "metadata": {},
     "output_type": "display_data"
    },
    {
     "name": "stdout",
     "output_type": "stream",
     "text": [
      "\n"
     ]
    }
   ],
   "source": [
    "# 512 models\n",
    "for i in tqdm_notebook(range(512)):\n",
    "\n",
    "    train2 = train[train['wheezy-copper-turtle-magic'] == i]\n",
    "    test2 = test[test['wheezy-copper-turtle-magic'] == i]\n",
    "    idx1 = train2.index\n",
    "    idx2 = test2.index\n",
    "    train2.reset_index(drop=True, inplace=True)\n",
    "\n",
    "    data = pd.concat([pd.DataFrame(train2[cols]), pd.DataFrame(test2[cols])])\n",
    "    pipe = Pipeline([('vt', VarianceThreshold(threshold=2)),\n",
    "                     ('scaler', StandardScaler())])\n",
    "    data2 = pipe.fit_transform(data[cols])\n",
    "    train3 = data2[:train2.shape[0]]\n",
    "    test3 = data2[train2.shape[0]:]\n",
    "    \n",
    "    skf = StratifiedKFold(n_splits=11, random_state=2019,shuffle=True)\n",
    "    ###################################################################################################\n",
    "    #QDA:0.96491\n",
    "\n",
    "#     for train_index, test_index in skf.split(train2, train2['target']):\n",
    "#         qda = QuadraticDiscriminantAnalysis(0.1)\n",
    "#         qda.fit(train3[train_index,:],train2.loc[train_index]['target'])\n",
    "#         oof_qda[idx1[test_index]] = qda.predict_proba(train3[test_index,:])[:,1]\n",
    "#         preds_qda[idx2] += qda.predict_proba(test3)[:,1] / skf.n_splits\n",
    "\n",
    "    ###################################################################################################\n",
    "    #MLP:0.914\n",
    "\n",
    "#     for train_index, test_index in skf.split(train2, train2['target']):\n",
    "#         mlp = neural_network.MLPClassifier(random_state=3,  activation='relu', solver='lbfgs', tol=1e-06, hidden_layer_sizes=(256, ))\n",
    "#         mlp.fit(train3[train_index,:],train2.loc[train_index]['target'])\n",
    "#         oof_mlp[idx1[test_index]] = mlp.predict_proba(train3[test_index,:])[:,1]\n",
    "#         preds_mlp[idx2] += mlp.predict_proba(test3)[:,1] / skf.n_splits\n",
    "        \n",
    "    ###################################################################################################\n",
    "    #GMM: 0.5 plain, 0.9675 with lasso init\n",
    "\n",
    "#     for train_index, test_index in skf.split(train2, train2['target']):\n",
    "\n",
    "#         # MODEL AND PREDICT WITH QDA\n",
    "#         ms, ps = get_mean_cov(train3[train_index,:],train2.loc[train_index]['target'].values)\n",
    "        \n",
    "#         gmm = GaussianMixture(n_components=2, init_params='random', covariance_type='full', tol=0.001,reg_covar=0.001, max_iter=100, n_init=1,means_init=ms, precisions_init=ps)\n",
    "#         gmm.fit(np.concatenate([train3,test3],axis = 0))\n",
    "#         oof_gmm[idx1[test_index]] = gmm.predict_proba(train3[test_index,:])[:,0]\n",
    "#         preds_gmm[idx2] += gmm.predict_proba(test3)[:,0] / skf.n_splits\n",
    "    \n",
    "    ###################################################################################################\n",
    "    #SVC: 0.94262 ,0.87(3), 0.84(5)\n",
    "    \n",
    "#     for train_index, test_index in skf.split(train3, train2['target']):\n",
    "        \n",
    "#         # MODEL WITH SUPPORT VECTOR MACHINE\n",
    "#         svc = SVC(probability=True,kernel='poly',degree=4,gamma='auto')\n",
    "#         svc.fit(train3[train_index,:],train2.loc[train_index]['target'])\n",
    "#         oof_svc[idx1[test_index]] = svc.predict_proba(train3[test_index,:])[:,1]\n",
    "#         preds_svc[idx2] += svc.predict_proba(test3)[:,1] / skf.n_splits\n",
    "    \n",
    "    ###################################################################################################\n",
    "    #NuSVC: 0.95677, 0.93285(3), 0.93268(5)\n",
    "    \n",
    "#     for train_index, test_index in skf.split(train3, train2['target']):\n",
    "#         nusvc = NuSVC(probability=True, kernel='poly', degree=4, gamma='auto', random_state=4, nu=0.59, coef0=0.053)\n",
    "#         nusvc.fit(train3[train_index,:],train2.loc[train_index]['target'])\n",
    "#         oof_nusvc[idx1[test_index]] = clf.predict_proba(train3[test_index,:])[:,1]\n",
    "#         preds_nusvc[idx2] += nusvc.predict_proba(test3)[:,1] / skf.n_splits\n",
    "    \n",
    "    ###################################################################################################\n",
    "    #kNN: 0.91823 (16), 0.91892* (10), 0.91385(6), 0.91721(8)\n",
    "    \n",
    "#     for train_index, test_index in skf.split(train3, train2['target']):\n",
    "#         knn = neighbors.KNeighborsClassifier(n_neighbors=10, p=2)\n",
    "#         knn.fit(train3[train_index,:],train2.loc[train_index]['target'])\n",
    "#         oof_knn[idx1[test_index]] = knn.predict_proba(train3[test_index,:])[:,1]\n",
    "#         preds_knn[idx2] += knn.predict_proba(test3)[:,1] / skf.n_splits\n",
    "\n",
    "    ###################################################################################################\n",
    "    #LR:0.79655\n",
    "    \n",
    "#     for train_index, test_index in skf.split(train3, train2['target']):\n",
    "#         lr = linear_model.LogisticRegression(solver='lbfgs',penalty='l2',C=0.1)\n",
    "#         lr.fit(train3[train_index,:],train2.loc[train_index]['target'])\n",
    "#         oof_lr[idx1[test_index]] = lr.predict_proba(train3[test_index,:])[:,1]\n",
    "#         preds_lr[idx2] += lr.predict_proba(test3)[:,1] / skf.n_splits\n",
    "\n",
    "###################################################################################################\n",
    "# auc = roc_auc_score(train['target'], oof_lr)\n",
    "# print(f'AUC: {auc:.5}')"
   ]
  },
  {
   "cell_type": "code",
   "execution_count": 13,
   "metadata": {},
   "outputs": [
    {
     "name": "stdout",
     "output_type": "stream",
     "text": [
      "qda 0.5\n",
      "mlp 0.5\n",
      "gmm 0.5\n",
      "svc 0.5\n",
      "nusvc 0.5\n",
      "knn 0.5\n",
      "lr 0.8093659995009099\n"
     ]
    }
   ],
   "source": [
    "print('qda', roc_auc_score(train['target'], oof_qda))\n",
    "print('mlp', roc_auc_score(train['target'], oof_mlp))\n",
    "print('gmm', roc_auc_score(train['target'], oof_gmm))\n",
    "print('svc', roc_auc_score(train['target'], oof_svc))\n",
    "print('nusvc', roc_auc_score(train['target'], oof_nusvc))\n",
    "print('knn', roc_auc_score(train['target'], oof_knn))\n",
    "print('lr', roc_auc_score(train['target'], oof_lr))"
   ]
  },
  {
   "cell_type": "code",
   "execution_count": 7,
   "metadata": {},
   "outputs": [],
   "source": [
    "oof_qda = oof_qda.reshape(-1, 1)\n",
    "preds_qda = preds_qda.reshape(-1, 1)\n",
    "\n",
    "oof_mlp = oof_mlp.reshape(-1, 1)\n",
    "preds_mlp = preds_mlp.reshape(-1, 1)\n",
    "\n",
    "oof_gmm = oof_gmm.reshape(-1, 1)\n",
    "preds_gmm = preds_gmm.reshape(-1, 1)\n",
    "\n",
    "oof_svc = oof_svc.reshape(-1, 1)\n",
    "preds_svc = preds_svc.reshape(-1, 1)\n",
    "\n",
    "oof_nusvc = oof_nusvc.reshape(-1, 1)\n",
    "preds_nusvc = preds_nusvc.reshape(-1, 1)\n",
    "\n",
    "oof_knn = oof_knn.reshape(-1, 1)\n",
    "preds_knn = preds_knn.reshape(-1, 1)\n",
    "\n",
    "oof_lr = oof_lr.reshape(-1, 1)\n",
    "preds_lr = preds_lr.reshape(-1, 1)"
   ]
  },
  {
   "cell_type": "code",
   "execution_count": 8,
   "metadata": {},
   "outputs": [
    {
     "name": "stdout",
     "output_type": "stream",
     "text": [
      "(262144, 6) (131073, 6)\n"
     ]
    }
   ],
   "source": [
    "tr = np.concatenate((oof_qda, oof_mlp, oof_gmm, oof_svc, oof_nusvc, oof_knn), axis=1)\n",
    "te = np.concatenate((preds_qda, preds_mlp, preds_gmm, preds_svc, preds_nusvc, preds_knn), axis=1)\n",
    "print(tr.shape, te.shape)"
   ]
  },
  {
   "cell_type": "code",
   "execution_count": 9,
   "metadata": {},
   "outputs": [
    {
     "ename": "NameError",
     "evalue": "name 'lrr' is not defined",
     "output_type": "error",
     "traceback": [
      "\u001b[0;31m---------------------------------------------------------------------------\u001b[0m",
      "\u001b[0;31mNameError\u001b[0m                                 Traceback (most recent call last)",
      "\u001b[0;32m<ipython-input-9-575cfdc04652>\u001b[0m in \u001b[0;36m<module>\u001b[0;34m\u001b[0m\n\u001b[1;32m      6\u001b[0m     \u001b[0mstack_lr\u001b[0m \u001b[0;34m=\u001b[0m \u001b[0mlinear_model\u001b[0m\u001b[0;34m.\u001b[0m\u001b[0mLogisticRegression\u001b[0m\u001b[0;34m(\u001b[0m\u001b[0;34m)\u001b[0m \u001b[0;31m# solver='liblinear',penalty='l1',C=0.1\u001b[0m\u001b[0;34m\u001b[0m\u001b[0;34m\u001b[0m\u001b[0m\n\u001b[1;32m      7\u001b[0m     \u001b[0mstack_lr\u001b[0m\u001b[0;34m.\u001b[0m\u001b[0mfit\u001b[0m\u001b[0;34m(\u001b[0m\u001b[0mtr\u001b[0m\u001b[0;34m[\u001b[0m\u001b[0mtrain_index\u001b[0m\u001b[0;34m]\u001b[0m\u001b[0;34m,\u001b[0m \u001b[0mtrain\u001b[0m\u001b[0;34m[\u001b[0m\u001b[0;34m'target'\u001b[0m\u001b[0;34m]\u001b[0m\u001b[0;34m[\u001b[0m\u001b[0mtrain_index\u001b[0m\u001b[0;34m]\u001b[0m\u001b[0;34m)\u001b[0m\u001b[0;34m\u001b[0m\u001b[0;34m\u001b[0m\u001b[0m\n\u001b[0;32m----> 8\u001b[0;31m     \u001b[0moof_stack_lr\u001b[0m\u001b[0;34m[\u001b[0m\u001b[0mtest_index\u001b[0m\u001b[0;34m]\u001b[0m \u001b[0;34m=\u001b[0m \u001b[0mlrr\u001b[0m\u001b[0;34m.\u001b[0m\u001b[0mpredict_proba\u001b[0m\u001b[0;34m(\u001b[0m\u001b[0mtr\u001b[0m\u001b[0;34m[\u001b[0m\u001b[0mtest_index\u001b[0m\u001b[0;34m,\u001b[0m\u001b[0;34m:\u001b[0m\u001b[0;34m]\u001b[0m\u001b[0;34m)\u001b[0m\u001b[0;34m[\u001b[0m\u001b[0;34m:\u001b[0m\u001b[0;34m,\u001b[0m\u001b[0;36m1\u001b[0m\u001b[0;34m]\u001b[0m\u001b[0;34m\u001b[0m\u001b[0;34m\u001b[0m\u001b[0m\n\u001b[0m\u001b[1;32m      9\u001b[0m     \u001b[0mpreds_stack_lr\u001b[0m \u001b[0;34m+=\u001b[0m \u001b[0mlrr\u001b[0m\u001b[0;34m.\u001b[0m\u001b[0mpredict_proba\u001b[0m\u001b[0;34m(\u001b[0m\u001b[0mte\u001b[0m\u001b[0;34m)\u001b[0m\u001b[0;34m[\u001b[0m\u001b[0;34m:\u001b[0m\u001b[0;34m,\u001b[0m\u001b[0;36m1\u001b[0m\u001b[0;34m]\u001b[0m \u001b[0;34m/\u001b[0m \u001b[0mskf\u001b[0m\u001b[0;34m.\u001b[0m\u001b[0mn_splits\u001b[0m\u001b[0;34m\u001b[0m\u001b[0;34m\u001b[0m\u001b[0m\n\u001b[1;32m     10\u001b[0m \u001b[0;34m\u001b[0m\u001b[0m\n",
      "\u001b[0;31mNameError\u001b[0m: name 'lrr' is not defined"
     ]
    }
   ],
   "source": [
    "oof_stack_lr = np.zeros(len(train)) \n",
    "preds_stack_lr = np.zeros(len(test))\n",
    "skf = StratifiedKFold(n_splits=5, random_state=42)\n",
    "\n",
    "for train_index, test_index in skf.split(tr, train['target']):\n",
    "    stack_lr = linear_model.LogisticRegression() # solver='liblinear',penalty='l1',C=0.1\n",
    "    stack_lr.fit(tr[train_index], train['target'][train_index])\n",
    "    oof_stack_lr[test_index] = lrr.predict_proba(tr[test_index,:])[:,1]\n",
    "    preds_stack_lr += lrr.predict_proba(te)[:,1] / skf.n_splits\n",
    "    \n",
    "print('stack CV score =',round(roc_auc_score(train['target'],oof_stack_lr),5))"
   ]
  },
  {
   "cell_type": "code",
   "execution_count": null,
   "metadata": {},
   "outputs": [],
   "source": []
  },
  {
   "cell_type": "code",
   "execution_count": null,
   "metadata": {},
   "outputs": [],
   "source": []
  },
  {
   "cell_type": "code",
   "execution_count": null,
   "metadata": {},
   "outputs": [],
   "source": []
  },
  {
   "cell_type": "code",
   "execution_count": null,
   "metadata": {},
   "outputs": [],
   "source": []
  },
  {
   "cell_type": "code",
   "execution_count": null,
   "metadata": {},
   "outputs": [],
   "source": []
  },
  {
   "cell_type": "code",
   "execution_count": null,
   "metadata": {},
   "outputs": [],
   "source": []
  },
  {
   "cell_type": "code",
   "execution_count": null,
   "metadata": {},
   "outputs": [],
   "source": []
  },
  {
   "cell_type": "code",
   "execution_count": null,
   "metadata": {},
   "outputs": [],
   "source": []
  },
  {
   "cell_type": "code",
   "execution_count": null,
   "metadata": {},
   "outputs": [],
   "source": []
  },
  {
   "cell_type": "code",
   "execution_count": null,
   "metadata": {},
   "outputs": [],
   "source": []
  },
  {
   "cell_type": "code",
   "execution_count": null,
   "metadata": {},
   "outputs": [],
   "source": []
  },
  {
   "cell_type": "code",
   "execution_count": null,
   "metadata": {},
   "outputs": [],
   "source": []
  },
  {
   "cell_type": "code",
   "execution_count": null,
   "metadata": {},
   "outputs": [],
   "source": []
  },
  {
   "cell_type": "code",
   "execution_count": null,
   "metadata": {},
   "outputs": [],
   "source": []
  },
  {
   "cell_type": "code",
   "execution_count": null,
   "metadata": {},
   "outputs": [],
   "source": []
  },
  {
   "cell_type": "code",
   "execution_count": null,
   "metadata": {},
   "outputs": [],
   "source": []
  },
  {
   "cell_type": "code",
   "execution_count": null,
   "metadata": {},
   "outputs": [],
   "source": []
  },
  {
   "cell_type": "code",
   "execution_count": null,
   "metadata": {},
   "outputs": [],
   "source": []
  },
  {
   "cell_type": "code",
   "execution_count": null,
   "metadata": {},
   "outputs": [],
   "source": []
  },
  {
   "cell_type": "code",
   "execution_count": null,
   "metadata": {},
   "outputs": [],
   "source": []
  },
  {
   "cell_type": "code",
   "execution_count": null,
   "metadata": {},
   "outputs": [],
   "source": []
  },
  {
   "cell_type": "code",
   "execution_count": null,
   "metadata": {},
   "outputs": [],
   "source": []
  },
  {
   "cell_type": "code",
   "execution_count": null,
   "metadata": {},
   "outputs": [],
   "source": []
  },
  {
   "cell_type": "code",
   "execution_count": null,
   "metadata": {},
   "outputs": [],
   "source": []
  },
  {
   "cell_type": "code",
   "execution_count": null,
   "metadata": {},
   "outputs": [],
   "source": []
  },
  {
   "cell_type": "code",
   "execution_count": null,
   "metadata": {},
   "outputs": [],
   "source": []
  },
  {
   "cell_type": "code",
   "execution_count": null,
   "metadata": {},
   "outputs": [],
   "source": []
  },
  {
   "cell_type": "code",
   "execution_count": null,
   "metadata": {},
   "outputs": [],
   "source": []
  },
  {
   "cell_type": "code",
   "execution_count": null,
   "metadata": {},
   "outputs": [],
   "source": []
  },
  {
   "cell_type": "code",
   "execution_count": null,
   "metadata": {},
   "outputs": [],
   "source": []
  },
  {
   "cell_type": "code",
   "execution_count": null,
   "metadata": {},
   "outputs": [],
   "source": []
  },
  {
   "cell_type": "code",
   "execution_count": null,
   "metadata": {},
   "outputs": [],
   "source": []
  },
  {
   "cell_type": "code",
   "execution_count": null,
   "metadata": {},
   "outputs": [],
   "source": []
  },
  {
   "cell_type": "code",
   "execution_count": null,
   "metadata": {},
   "outputs": [],
   "source": []
  },
  {
   "cell_type": "code",
   "execution_count": null,
   "metadata": {},
   "outputs": [],
   "source": []
  },
  {
   "cell_type": "code",
   "execution_count": null,
   "metadata": {},
   "outputs": [],
   "source": []
  },
  {
   "cell_type": "code",
   "execution_count": null,
   "metadata": {},
   "outputs": [],
   "source": []
  },
  {
   "cell_type": "code",
   "execution_count": null,
   "metadata": {},
   "outputs": [],
   "source": []
  },
  {
   "cell_type": "code",
   "execution_count": null,
   "metadata": {},
   "outputs": [],
   "source": []
  },
  {
   "cell_type": "code",
   "execution_count": null,
   "metadata": {},
   "outputs": [],
   "source": []
  },
  {
   "cell_type": "code",
   "execution_count": null,
   "metadata": {},
   "outputs": [],
   "source": []
  },
  {
   "cell_type": "code",
   "execution_count": null,
   "metadata": {},
   "outputs": [],
   "source": []
  },
  {
   "cell_type": "code",
   "execution_count": null,
   "metadata": {},
   "outputs": [],
   "source": []
  },
  {
   "cell_type": "code",
   "execution_count": null,
   "metadata": {},
   "outputs": [],
   "source": []
  },
  {
   "cell_type": "code",
   "execution_count": null,
   "metadata": {},
   "outputs": [],
   "source": []
  },
  {
   "cell_type": "code",
   "execution_count": null,
   "metadata": {},
   "outputs": [],
   "source": []
  },
  {
   "cell_type": "code",
   "execution_count": null,
   "metadata": {},
   "outputs": [],
   "source": []
  },
  {
   "cell_type": "code",
   "execution_count": null,
   "metadata": {},
   "outputs": [],
   "source": []
  },
  {
   "cell_type": "code",
   "execution_count": null,
   "metadata": {},
   "outputs": [],
   "source": []
  },
  {
   "cell_type": "code",
   "execution_count": null,
   "metadata": {},
   "outputs": [],
   "source": []
  },
  {
   "cell_type": "code",
   "execution_count": null,
   "metadata": {},
   "outputs": [],
   "source": []
  },
  {
   "cell_type": "code",
   "execution_count": null,
   "metadata": {},
   "outputs": [],
   "source": []
  },
  {
   "cell_type": "code",
   "execution_count": null,
   "metadata": {},
   "outputs": [],
   "source": []
  },
  {
   "cell_type": "code",
   "execution_count": null,
   "metadata": {},
   "outputs": [],
   "source": []
  },
  {
   "cell_type": "code",
   "execution_count": null,
   "metadata": {},
   "outputs": [],
   "source": []
  },
  {
   "cell_type": "code",
   "execution_count": null,
   "metadata": {},
   "outputs": [],
   "source": []
  },
  {
   "cell_type": "code",
   "execution_count": null,
   "metadata": {},
   "outputs": [],
   "source": []
  },
  {
   "cell_type": "code",
   "execution_count": null,
   "metadata": {},
   "outputs": [],
   "source": []
  },
  {
   "cell_type": "code",
   "execution_count": null,
   "metadata": {},
   "outputs": [],
   "source": []
  },
  {
   "cell_type": "code",
   "execution_count": null,
   "metadata": {},
   "outputs": [],
   "source": []
  },
  {
   "cell_type": "code",
   "execution_count": null,
   "metadata": {},
   "outputs": [],
   "source": []
  },
  {
   "cell_type": "code",
   "execution_count": null,
   "metadata": {},
   "outputs": [],
   "source": []
  },
  {
   "cell_type": "code",
   "execution_count": null,
   "metadata": {},
   "outputs": [],
   "source": []
  }
 ],
 "metadata": {
  "kernelspec": {
   "display_name": "Python 3",
   "language": "python",
   "name": "python3"
  },
  "language_info": {
   "codemirror_mode": {
    "name": "ipython",
    "version": 3
   },
   "file_extension": ".py",
   "mimetype": "text/x-python",
   "name": "python",
   "nbconvert_exporter": "python",
   "pygments_lexer": "ipython3",
   "version": "3.7.3"
  }
 },
 "nbformat": 4,
 "nbformat_minor": 2
}
