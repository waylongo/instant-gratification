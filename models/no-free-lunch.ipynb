{
 "cells": [
  {
   "cell_type": "code",
   "execution_count": 1,
   "metadata": {},
   "outputs": [],
   "source": [
    "import numpy as np\n",
    "import pandas as pd\n",
    "from sklearn import svm, neighbors, linear_model, neural_network\n",
    "from sklearn.model_selection import GridSearchCV, train_test_split, StratifiedKFold\n",
    "from sklearn.metrics import roc_auc_score\n",
    "from sklearn.preprocessing import StandardScaler\n",
    "from sklearn.feature_selection import VarianceThreshold\n",
    "from sklearn.discriminant_analysis import QuadraticDiscriminantAnalysis, LinearDiscriminantAnalysis\n",
    "from sklearn.neural_network import MLPClassifier\n",
    "from sklearn.mixture import GaussianMixture\n",
    "from sklearn.covariance import GraphicalLasso\n",
    "from sklearn.svm import SVC, NuSVC\n",
    "from sklearn.pipeline import Pipeline\n",
    "from tqdm import tqdm_notebook\n",
    "import warnings\n",
    "import multiprocessing\n",
    "import matplotlib.pyplot as plt\n",
    "%matplotlib inline\n",
    "from sklearn import manifold\n",
    "from scipy.optimize import minimize  \n",
    "warnings.filterwarnings('ignore')"
   ]
  },
  {
   "cell_type": "code",
   "execution_count": 2,
   "metadata": {},
   "outputs": [
    {
     "name": "stdout",
     "output_type": "stream",
     "text": [
      "(262144, 258) (131073, 257)\n"
     ]
    }
   ],
   "source": [
    "train = pd.read_csv('../input/train.csv')\n",
    "test = pd.read_csv('../input/test.csv')\n",
    "cols = [c for c in train.columns if c not in ['id', 'target', 'wheezy-copper-turtle-magic']]\n",
    "print(train.shape, test.shape)"
   ]
  },
  {
   "cell_type": "code",
   "execution_count": 3,
   "metadata": {},
   "outputs": [],
   "source": [
    "def get_mean_cov(x,y):\n",
    "    model = GraphicalLasso()\n",
    "    ones = (y==1).astype(bool)\n",
    "    x2 = x[ones]\n",
    "    model.fit(x2)\n",
    "    p1 = model.precision_\n",
    "    m1 = model.location_\n",
    "    \n",
    "    onesb = (y==0).astype(bool)\n",
    "    x2b = x[onesb]\n",
    "    model.fit(x2b)\n",
    "    p2 = model.precision_\n",
    "    m2 = model.location_\n",
    "    \n",
    "    ms = np.stack([m1,m2])\n",
    "    ps = np.stack([p1,p2])\n",
    "    return ms,ps"
   ]
  },
  {
   "cell_type": "code",
   "execution_count": 4,
   "metadata": {},
   "outputs": [],
   "source": [
    "oof = np.zeros(len(train))\n",
    "oof_qda = np.zeros(len(train))\n",
    "oof_mlp = np.zeros(len(train))\n",
    "oof_gmm = np.zeros(len(train))\n",
    "oof_svc = np.zeros(len(train))\n",
    "oof_nusvc = np.zeros(len(train))\n",
    "oof_knn = np.zeros(len(train))\n",
    "oof_lr = np.zeros(len(train))\n",
    "\n",
    "preds = np.zeros(len(test))\n",
    "preds_qda = np.zeros(len(test))\n",
    "preds_mlp = np.zeros(len(test))\n",
    "preds_gmm = np.zeros(len(test))\n",
    "preds_svc = np.zeros(len(test))\n",
    "preds_nusvc = np.zeros(len(test))\n",
    "preds_knn = np.zeros(len(test))\n",
    "preds_lr = np.zeros(len(test))\n",
    "\n",
    "records = []\n",
    "records_qda = []\n",
    "records_mlp = []\n",
    "records_gmm = []\n",
    "records_svc = []\n",
    "records_nusvc = []\n",
    "records_knn = []\n",
    "records_lr = []"
   ]
  },
  {
   "cell_type": "code",
   "execution_count": 5,
   "metadata": {},
   "outputs": [
    {
     "data": {
      "application/vnd.jupyter.widget-view+json": {
       "model_id": "3fd827b862a744af861f26f6b4c2c9db",
       "version_major": 2,
       "version_minor": 0
      },
      "text/plain": [
       "HBox(children=(IntProgress(value=0, max=512), HTML(value='')))"
      ]
     },
     "metadata": {},
     "output_type": "display_data"
    },
    {
     "name": "stdout",
     "output_type": "stream",
     "text": [
      "\n"
     ]
    }
   ],
   "source": [
    "# 512 models\n",
    "for i in tqdm_notebook(range(512)):\n",
    "\n",
    "    train2 = train[train['wheezy-copper-turtle-magic'] == i]\n",
    "    test2 = test[test['wheezy-copper-turtle-magic'] == i]\n",
    "    idx1 = train2.index\n",
    "    idx2 = test2.index\n",
    "    train2.reset_index(drop=True, inplace=True)\n",
    "\n",
    "    data = pd.concat([pd.DataFrame(train2[cols]), pd.DataFrame(test2[cols])])\n",
    "    pipe = Pipeline([('vt', VarianceThreshold(threshold=2)),\n",
    "                     ('scaler', StandardScaler())])\n",
    "    data2 = pipe.fit_transform(data[cols])\n",
    "    train3 = data2[:train2.shape[0]]\n",
    "    test3 = data2[train2.shape[0]:]\n",
    "    \n",
    "    skf = StratifiedKFold(n_splits=11, random_state=2019,shuffle=True)\n",
    "    ###################################################################################################\n",
    "    #QDA:0.96491\n",
    "\n",
    "    for train_index, test_index in skf.split(train2, train2['target']):\n",
    "        qda = QuadraticDiscriminantAnalysis(0.1)\n",
    "        qda.fit(train3[train_index,:],train2.loc[train_index]['target'])\n",
    "        oof_qda[idx1[test_index]] = qda.predict_proba(train3[test_index,:])[:,1]\n",
    "        preds_qda[idx2] += qda.predict_proba(test3)[:,1] / skf.n_splits\n",
    "\n",
    "    ###################################################################################################\n",
    "    #MLP:0.914\n",
    "\n",
    "#         mlp = neural_network.MLPClassifier(random_state=3,  activation='relu', solver='lbfgs', tol=1e-06, hidden_layer_sizes=(256, ))\n",
    "#         mlp.fit(train3[train_index,:],train2.loc[train_index]['target'])\n",
    "#         oof_mlp[idx1[test_index]] = mlp.predict_proba(train3[test_index,:])[:,1]\n",
    "#         preds_mlp[idx2] += mlp.predict_proba(test3)[:,1] / skf.n_splits\n",
    "        \n",
    "    ###################################################################################################\n",
    "    #GMM: 0.5 plain, 0.9675 with lasso init\n",
    "\n",
    "        # MODEL AND PREDICT WITH QDA\n",
    "        ms, ps = get_mean_cov(train3[train_index,:],train2.loc[train_index]['target'].values)\n",
    "        \n",
    "        gmm = GaussianMixture(n_components=2, init_params='random', covariance_type='full', tol=0.001,reg_covar=0.001, max_iter=100, n_init=1,means_init=ms, precisions_init=ps)\n",
    "        gmm.fit(np.concatenate([train3,test3],axis = 0))\n",
    "        oof_gmm[idx1[test_index]] = gmm.predict_proba(train3[test_index,:])[:,0]\n",
    "        preds_gmm[idx2] += gmm.predict_proba(test3)[:,0] / skf.n_splits\n",
    "    \n",
    "    ###################################################################################################\n",
    "    #SVC: 0.94262 ,0.87(3), 0.84(5)\n",
    "\n",
    "#         # MODEL WITH SUPPORT VECTOR MACHINE\n",
    "#         svc = SVC(probability=True,kernel='poly',degree=4,gamma='auto')\n",
    "#         svc.fit(train3[train_index,:],train2.loc[train_index]['target'])\n",
    "#         oof_svc[idx1[test_index]] = svc.predict_proba(train3[test_index,:])[:,1]\n",
    "#         preds_svc[idx2] += svc.predict_proba(test3)[:,1] / skf.n_splits\n",
    "    \n",
    "    ###################################################################################################\n",
    "    #NuSVC: 0.95677, 0.93285(3), 0.93268(5)\n",
    "        \n",
    "#         nusvc = NuSVC(probability=True, kernel='poly', degree=4, gamma='auto', random_state=4, nu=0.59, coef0=0.053)\n",
    "#         nusvc.fit(train3[train_index,:],train2.loc[train_index]['target'])\n",
    "#         oof_nusvc[idx1[test_index]] = nusvc.predict_proba(train3[test_index,:])[:,1]\n",
    "#         preds_nusvc[idx2] += nusvc.predict_proba(test3)[:,1] / skf.n_splits\n",
    "    \n",
    "    ###################################################################################################\n",
    "    #kNN: 0.91823 (16), 0.91892* (10), 0.91385(6), 0.91721(8)\n",
    "\n",
    "#         knn = neighbors.KNeighborsClassifier(n_neighbors=10, p=2)\n",
    "#         knn.fit(train3[train_index,:],train2.loc[train_index]['target'])\n",
    "#         oof_knn[idx1[test_index]] = knn.predict_proba(train3[test_index,:])[:,1]\n",
    "#         preds_knn[idx2] += knn.predict_proba(test3)[:,1] / skf.n_splits\n",
    "\n",
    "    ###################################################################################################\n",
    "    #LR:0.79655\n",
    "\n",
    "#         lr = linear_model.LogisticRegression(solver='saga',penalty='l1',C=0.1)\n",
    "#         lr.fit(train3[train_index,:],train2.loc[train_index]['target'])\n",
    "#         oof_lr[idx1[test_index]] = lr.predict_proba(train3[test_index,:])[:,1]\n",
    "#         preds_lr[idx2] += lr.predict_proba(test3)[:,1] / skf.n_splits\n",
    "\n",
    "    ###################################################################################################\n",
    "    qda_score = roc_auc_score(train['target'][idx1].values, oof_qda[idx1])\n",
    "    gmm_score = roc_auc_score(train['target'][idx1].values, oof_gmm[idx1])\n",
    "    combined_score = [qda_score, gmm_score]\n",
    "    \n",
    "    for train_index, test_index in skf.split(train2, train2['target']):\n",
    "        if(np.argmax(combined_score) == 0):\n",
    "            qda = QuadraticDiscriminantAnalysis(0.1)\n",
    "            qda.fit(train3[train_index,:],train2.loc[train_index]['target'])\n",
    "            oof[idx1[test_index]] = qda.predict_proba(train3[test_index,:])[:,1]\n",
    "            preds[idx2] += qda.predict_proba(test3)[:,1] / skf.n_splits\n",
    "        else:\n",
    "            ms, ps = get_mean_cov(train3[train_index,:],train2.loc[train_index]['target'].values)\n",
    "\n",
    "            gmm = GaussianMixture(n_components=2, init_params='random', covariance_type='full', tol=0.001,reg_covar=0.001, max_iter=100, n_init=1,means_init=ms, precisions_init=ps)\n",
    "            gmm.fit(np.concatenate([train3,test3],axis = 0))\n",
    "            oof[idx1[test_index]] = gmm.predict_proba(train3[test_index,:])[:,0]\n",
    "            preds[idx2] += gmm.predict_proba(test3)[:,0] / skf.n_splits\n",
    "    \n",
    "    \n",
    "    records_qda.append(qda_score)\n",
    "#     records_mlp.append(roc_auc_score(train['target'][idx1].values, oof_mlp[idx1]))\n",
    "    records_gmm.append(gmm_score)\n",
    "#     records_svc.append(roc_auc_score(train['target'][idx1].values, oof_svc[idx1]))\n",
    "#     records_nusvc.append(roc_auc_score(train['target'][idx1].values, oof_nusvc[idx1]))\n",
    "#     records_knn.append(roc_auc_score(train['target'][idx1].values, oof_knn[idx1]))\n",
    "#     records_lr.append(roc_auc_score(train['target'][idx1].values, oof_lr[idx1]))\n",
    "    \n",
    "###################################################################################################\n"
   ]
  },
  {
   "cell_type": "code",
   "execution_count": 6,
   "metadata": {},
   "outputs": [
    {
     "name": "stdout",
     "output_type": "stream",
     "text": [
      "AUC: 0.96765\n"
     ]
    }
   ],
   "source": [
    "auc = roc_auc_score(train['target'], oof)\n",
    "print(f'AUC: {auc:.5}')"
   ]
  },
  {
   "cell_type": "code",
   "execution_count": 7,
   "metadata": {},
   "outputs": [
    {
     "data": {
      "image/png": "[encoded data removed]",
      "text/plain": [
       "<Figure size 1296x576 with 1 Axes>"
      ]
     },
     "metadata": {
      "needs_background": "light"
     },
     "output_type": "display_data"
    }
   ],
   "source": [
    "plt.figure(figsize=(18,8))\n",
    "plt.plot(records_qda,'.b',markersize=5)\n",
    "# plt.plot(records_mlp,'.k',markersize=5)\n",
    "plt.plot(records_gmm,'.r',markersize=5)\n",
    "# plt.plot(records_svc,'.g',markersize=5)\n",
    "# plt.plot(records_nusvc,'.c',markersize=5)\n",
    "# plt.plot(records_knn,'.m',markersize=5)\n",
    "# plt.plot(records_lr,'.y',markersize=5)\n",
    "\n",
    "plt.grid()"
   ]
  },
  {
   "cell_type": "code",
   "execution_count": 8,
   "metadata": {},
   "outputs": [],
   "source": [
    "# print('qda', roc_auc_score(train['target'], oof_qda))\n",
    "# print('mlp', roc_auc_score(train['target'], oof_mlp))\n",
    "# print('gmm', roc_auc_score(train['target'], oof_gmm))\n",
    "# print('svc', roc_auc_score(train['target'], oof_svc))\n",
    "# print('nusvc', roc_auc_score(train['target'], oof_nusvc))\n",
    "# print('knn', roc_auc_score(train['target'], oof_knn))\n",
    "# print('lr', roc_auc_score(train['target'], oof_lr))"
   ]
  },
  {
   "cell_type": "code",
   "execution_count": 9,
   "metadata": {},
   "outputs": [],
   "source": [
    "# oof_qda = oof_qda.reshape(-1, 1)\n",
    "# preds_qda = preds_qda.reshape(-1, 1)\n",
    "\n",
    "# oof_mlp = oof_mlp.reshape(-1, 1)\n",
    "# preds_mlp = preds_mlp.reshape(-1, 1)\n",
    "\n",
    "# oof_gmm = oof_gmm.reshape(-1, 1)\n",
    "# preds_gmm = preds_gmm.reshape(-1, 1)\n",
    "\n",
    "# oof_svc = oof_svc.reshape(-1, 1)\n",
    "# preds_svc = preds_svc.reshape(-1, 1)\n",
    "\n",
    "# oof_nusvc = oof_nusvc.reshape(-1, 1)\n",
    "# preds_nusvc = preds_nusvc.reshape(-1, 1)\n",
    "\n",
    "# oof_knn = oof_knn.reshape(-1, 1)\n",
    "# preds_knn = preds_knn.reshape(-1, 1)\n",
    "\n",
    "# oof_lr = oof_lr.reshape(-1, 1)\n",
    "# preds_lr = preds_lr.reshape(-1, 1)"
   ]
  },
  {
   "cell_type": "code",
   "execution_count": 10,
   "metadata": {},
   "outputs": [],
   "source": [
    "# tr = np.concatenate((oof_qda, oof_mlp, oof_gmm, oof_svc, oof_nusvc, oof_knn), axis=1)\n",
    "# te = np.concatenate((preds_qda, preds_mlp, preds_gmm, preds_svc, preds_nusvc, preds_knn), axis=1)\n",
    "# print(tr.shape, te.shape)"
   ]
  },
  {
   "cell_type": "code",
   "execution_count": 11,
   "metadata": {},
   "outputs": [],
   "source": [
    "# # logistic regression stacking\n",
    "# oof_stack_lr = np.zeros(len(train)) \n",
    "# preds_stack_lr = np.zeros(len(test))\n",
    "# skf = StratifiedKFold(n_splits=5, random_state=42)\n",
    "\n",
    "# for train_index, test_index in skf.split(tr, train['target']):\n",
    "#     stack_lr = linear_model.LogisticRegression() # solver='liblinear',penalty='l1',C=0.1\n",
    "#     stack_lr.fit(tr[train_index], train['target'][train_index])\n",
    "#     oof_stack_lr[test_index] = stack_lr.predict_proba(tr[test_index,:])[:,1]\n",
    "#     preds_stack_lr += stack_lr.predict_proba(te)[:,1] / skf.n_splits\n",
    "    \n",
    "# print('stack CV score =',round(roc_auc_score(train['target'],oof_stack_lr),5))"
   ]
  },
  {
   "cell_type": "code",
   "execution_count": null,
   "metadata": {},
   "outputs": [],
   "source": []
  },
  {
   "cell_type": "code",
   "execution_count": 12,
   "metadata": {},
   "outputs": [
    {
     "name": "stdout",
     "output_type": "stream",
     "text": [
      "122221 Test Records added for iteration :  0\n"
     ]
    },
    {
     "data": {
      "application/vnd.jupyter.widget-view+json": {
       "model_id": "a4e61ab1e4a34d18a3af36ac81e279dc",
       "version_major": 2,
       "version_minor": 0
      },
      "text/plain": [
       "HBox(children=(IntProgress(value=0, max=512), HTML(value='')))"
      ]
     },
     "metadata": {},
     "output_type": "display_data"
    },
    {
     "name": "stdout",
     "output_type": "stream",
     "text": [
      "\n"
     ]
    }
   ],
   "source": [
    "for itr in range(1):\n",
    "    test['target'] = preds\n",
    "    test.loc[test['target'] > 0.955, 'target'] = 1\n",
    "    test.loc[test['target'] < 0.045, 'target'] = 0\n",
    "    usefull_test = test[(test['target'] == 1) | (test['target'] == 0)]\n",
    "    new_train = pd.concat([train, usefull_test]).reset_index(drop=True)\n",
    "    print(usefull_test.shape[0], \"Test Records added for iteration : \", itr)\n",
    "    new_train.loc[oof > 0.995, 'target'] = 1\n",
    "    new_train.loc[oof < 0.005, 'target'] = 0\n",
    "    \n",
    "    oof2 = np.zeros(len(train))\n",
    "    oof_qda2 = np.zeros(len(train))\n",
    "    oof_mlp2 = np.zeros(len(train))\n",
    "    oof_gmm2 = np.zeros(len(train))\n",
    "    oof_svc2 = np.zeros(len(train))\n",
    "    oof_nusvc2 = np.zeros(len(train))\n",
    "    oof_knn2 = np.zeros(len(train))\n",
    "    oof_lr2 = np.zeros(len(train))\n",
    "    \n",
    "    preds = np.zeros(len(test))\n",
    "    preds_qda = np.zeros(len(test))\n",
    "    preds_mlp = np.zeros(len(test))\n",
    "    preds_gmm = np.zeros(len(test))\n",
    "    preds_svc = np.zeros(len(test))\n",
    "    preds_nusvc = np.zeros(len(test))\n",
    "    preds_knn = np.zeros(len(test))\n",
    "    preds_lr = np.zeros(len(test))\n",
    "    \n",
    "    records_qda = []\n",
    "    records_mlp = []\n",
    "    records_gmm = []\n",
    "    records_svc = []\n",
    "    records_nusvc = []\n",
    "    records_knn = []\n",
    "    records_lr = []\n",
    "\n",
    "    for i in tqdm_notebook(range(512)):\n",
    "\n",
    "        train2 = new_train[new_train['wheezy-copper-turtle-magic']==i]\n",
    "        test2 = test[test['wheezy-copper-turtle-magic']==i]\n",
    "        idx1 = train[train['wheezy-copper-turtle-magic']==i].index\n",
    "        idx2 = test2.index\n",
    "        train2.reset_index(drop=True,inplace=True)\n",
    "\n",
    "        data = pd.concat([pd.DataFrame(train2[cols]), pd.DataFrame(test2[cols])])\n",
    "        pipe = Pipeline([('vt', VarianceThreshold(threshold=2)), ('scaler', StandardScaler())])\n",
    "        data2 = pipe.fit_transform(data[cols])\n",
    "        train3 = data2[:train2.shape[0]]\n",
    "        test3 = data2[train2.shape[0]:]\n",
    "\n",
    "        skf = StratifiedKFold(n_splits=11, random_state=42)    \n",
    "        for train_index, test_index in skf.split(train2, train2['target']):\n",
    "            oof_test_index = [t for t in test_index if t < len(idx1)]\n",
    "        ###################################################################################################\n",
    "        #QDA\n",
    "        \n",
    "            qda = QuadraticDiscriminantAnalysis(0.1)\n",
    "            qda.fit(train3[train_index,:],train2.loc[train_index]['target'])\n",
    "            if len(oof_test_index) > 0:\n",
    "                oof_qda2[idx1[oof_test_index]] = qda.predict_proba(train3[oof_test_index,:])[:,1]\n",
    "            preds_qda[idx2] += qda.predict_proba(test3)[:,1] / skf.n_splits\n",
    "\n",
    "        ###################################################################################################\n",
    "        #MLP\n",
    "\n",
    "#             mlp = neural_network.MLPClassifier(random_state=3,  activation='relu', solver='lbfgs', tol=1e-06, hidden_layer_sizes=(256, ))\n",
    "#             mlp.fit(train3[train_index,:],train2.loc[train_index]['target'])\n",
    "#             if len(oof_test_index) > 0:\n",
    "#                 oof_mlp2[idx1[oof_test_index]] = mlp.predict_proba(train3[oof_test_index,:])[:,1]\n",
    "#             preds_mlp[idx2] += mlp.predict_proba(test3)[:,1] / skf.n_splits\n",
    "\n",
    "        ###################################################################################################\n",
    "        #GMM\n",
    "\n",
    "            # MODEL AND PREDICT WITH QDA\n",
    "            ms, ps = get_mean_cov(train3[train_index,:],train2.loc[train_index]['target'].values)\n",
    "\n",
    "            gmm = GaussianMixture(n_components=2, init_params='random', covariance_type='full', tol=0.001,reg_covar=0.001, max_iter=100, n_init=1,means_init=ms, precisions_init=ps)\n",
    "            gmm.fit(np.concatenate([train3,test3],axis = 0))\n",
    "            if len(oof_test_index) > 0:\n",
    "                oof_gmm2[idx1[oof_test_index]] = gmm.predict_proba(train3[oof_test_index,:])[:,0]\n",
    "            preds_gmm[idx2] += gmm.predict_proba(test3)[:,0] / skf.n_splits\n",
    "\n",
    "        ###################################################################################################\n",
    "        #SVC\n",
    "\n",
    "#             # MODEL WITH SUPPORT VECTOR MACHINE\n",
    "#             svc = SVC(probability=True,kernel='poly',degree=4,gamma='auto')\n",
    "#             svc.fit(train3[train_index,:],train2.loc[train_index]['target'])\n",
    "#             if len(oof_test_index) > 0:\n",
    "#                 oof_svc2[idx1[oof_test_index]] = svc.predict_proba(train3[oof_test_index,:])[:,1]\n",
    "#             preds_svc[idx2] += svc.predict_proba(test3)[:,1] / skf.n_splits\n",
    "\n",
    "        ###################################################################################################\n",
    "        #NuSVC\n",
    "\n",
    "#             nusvc = NuSVC(probability=True, kernel='poly', degree=4, gamma='auto', random_state=4, nu=0.59, coef0=0.053)\n",
    "#             nusvc.fit(train3[train_index,:],train2.loc[train_index]['target'])\n",
    "#             if len(oof_test_index) > 0:\n",
    "#                 oof_nusvc2[idx1[oof_test_index]] = nusvc.predict_proba(train3[oof_test_index,:])[:,1]\n",
    "#             preds_nusvc[idx2] += nusvc.predict_proba(test3)[:,1] / skf.n_splits\n",
    "\n",
    "        ###################################################################################################\n",
    "        #kNN\n",
    "\n",
    "#             knn = neighbors.KNeighborsClassifier(n_neighbors=10, p=2)\n",
    "#             knn.fit(train3[train_index,:],train2.loc[train_index]['target'])\n",
    "#             if len(oof_test_index) > 0:\n",
    "#                 oof_knn2[idx1[oof_test_index]] = knn.predict_proba(train3[oof_test_index,:])[:,1]\n",
    "#             preds_knn[idx2] += knn.predict_proba(test3)[:,1] / skf.n_splits\n",
    "\n",
    "        ###################################################################################################\n",
    "        #LR\n",
    "\n",
    "#             lr = linear_model.LogisticRegression(solver='saga',penalty='l1',C=0.1)\n",
    "#             lr.fit(train3[train_index,:],train2.loc[train_index]['target'])\n",
    "#             if len(oof_test_index) > 0:\n",
    "#                 oof_lr2[idx1[oof_test_index]] = lr.predict_proba(train3[oof_test_index,:])[:,1]\n",
    "#             preds_lr[idx2] += lr.predict_proba(test3)[:,1] / skf.n_splits\n",
    "        ###################################################################################################\n",
    "        qda_score = roc_auc_score(train['target'][idx1].values, oof_qda2[idx1])\n",
    "        gmm_score = roc_auc_score(train['target'][idx1].values, oof_gmm2[idx1])\n",
    "        combined_score = [qda_score, gmm_score]\n",
    "\n",
    "        for train_index, test_index in skf.split(train2, train2['target']):\n",
    "            oof_test_index = [t for t in test_index if t < len(idx1)]\n",
    "            \n",
    "            if(np.argmax(combined_score) == 0):\n",
    "                qda = QuadraticDiscriminantAnalysis(0.1)\n",
    "                qda.fit(train3[train_index,:],train2.loc[train_index]['target'])\n",
    "                if len(oof_test_index) > 0:\n",
    "                    oof2[idx1[oof_test_index]] = qda.predict_proba(train3[oof_test_index,:])[:,1]\n",
    "                preds[idx2] += qda.predict_proba(test3)[:,1] / skf.n_splits\n",
    "            else:\n",
    "                ms, ps = get_mean_cov(train3[train_index,:],train2.loc[train_index]['target'].values)\n",
    "\n",
    "                gmm = GaussianMixture(n_components=2, init_params='random', covariance_type='full', tol=0.001,reg_covar=0.001, max_iter=100, n_init=1,means_init=ms, precisions_init=ps)\n",
    "                gmm.fit(np.concatenate([train3,test3],axis = 0))\n",
    "                if len(oof_test_index) > 0:\n",
    "                    oof2[idx1[oof_test_index]] = gmm.predict_proba(train3[oof_test_index,:])[:,0]\n",
    "                preds[idx2] += gmm.predict_proba(test3)[:,0] / skf.n_splits\n",
    "                \n",
    "                \n",
    "        records_qda.append(qda_score)\n",
    "        records_gmm.append(gmm_score)\n",
    "    \n",
    "#     print('qda', roc_auc_score(train['target'], oof_qda2))\n",
    "#     print('mlp', roc_auc_score(train['target'], oof_mlp2))\n",
    "#     print('gmm', roc_auc_score(train['target'], oof_gmm2))\n",
    "#     print('svc', roc_auc_score(train['target'], oof_svc2))\n",
    "#     print('nusvc', roc_auc_score(train['target'], oof_nusvc2))\n",
    "#     print('knn', roc_auc_score(train['target'], oof_knn2))\n",
    "#     print('lr', roc_auc_score(train['target'], oof_lr2))\n",
    "    \n",
    "#     oof_qda2 = oof_qda2.reshape(-1, 1)\n",
    "#     preds_qda = preds_qda.reshape(-1, 1)\n",
    "\n",
    "#     oof_mlp2 = oof_mlp2.reshape(-1, 1)\n",
    "#     preds_mlp = preds_mlp.reshape(-1, 1)\n",
    "\n",
    "#     oof_gmm2 = oof_gmm2.reshape(-1, 1)\n",
    "#     preds_gmm = preds_gmm.reshape(-1, 1)\n",
    "\n",
    "#     oof_svc2 = oof_svc2.reshape(-1, 1)\n",
    "#     preds_svc = preds_svc.reshape(-1, 1)\n",
    "\n",
    "#     oof_nusvc2 = oof_nusvc2.reshape(-1, 1)\n",
    "#     preds_nusvc = preds_nusvc.reshape(-1, 1)\n",
    "\n",
    "#     oof_knn2 = oof_knn2.reshape(-1, 1)\n",
    "#     preds_knn = preds_knn.reshape(-1, 1)\n",
    "\n",
    "#     oof_lr2 = oof_lr2.reshape(-1, 1)\n",
    "#     preds_lr = preds_lr.reshape(-1, 1)\n",
    "    \n",
    "#     tr = np.concatenate((oof_qda2, oof_mlp2, oof_gmm2, oof_svc2, oof_nusvc2, oof_knn2), axis=1)\n",
    "#     te = np.concatenate((preds_qda, preds_mlp, preds_gmm, preds_svc, preds_nusvc, preds_knn), axis=1)\n",
    "#     print(tr.shape, te.shape)\n",
    "    \n",
    "#     # logistic regression stacking\n",
    "#     oof_stack_lr = np.zeros(len(train)) \n",
    "#     preds_stack_lr = np.zeros(len(test))\n",
    "#     skf = StratifiedKFold(n_splits=5, random_state=42)\n",
    "\n",
    "#     for train_index, test_index in skf.split(tr, train['target']):\n",
    "#         stack_lr = linear_model.LogisticRegression() # solver='liblinear',penalty='l1',C=0.1\n",
    "#         stack_lr.fit(tr[train_index], train['target'][train_index])\n",
    "#         oof_stack_lr[test_index] = stack_lr.predict_proba(tr[test_index,:])[:,1]\n",
    "#         preds_stack_lr += stack_lr.predict_proba(te)[:,1] / skf.n_splits\n",
    "\n",
    "#     print('stack CV score =',round(roc_auc_score(train['target'],oof_stack_lr),5))"
   ]
  },
  {
   "cell_type": "code",
   "execution_count": 13,
   "metadata": {},
   "outputs": [
    {
     "name": "stdout",
     "output_type": "stream",
     "text": [
      "AUC: 0.97001\n"
     ]
    }
   ],
   "source": [
    "auc = roc_auc_score(train['target'], oof2)\n",
    "print(f'AUC: {auc:.5}')"
   ]
  },
  {
   "cell_type": "code",
   "execution_count": 18,
   "metadata": {},
   "outputs": [
    {
     "data": {
      "image/png": "[encoded data removed]",
      "text/plain": [
       "<Figure size 1296x576 with 1 Axes>"
      ]
     },
     "metadata": {
      "needs_background": "light"
     },
     "output_type": "display_data"
    }
   ],
   "source": [
    "plt.figure(figsize=(18,8))\n",
    "plt.plot(records_qda,'.b',markersize=8)\n",
    "# plt.plot(records_mlp,'.k',markersize=5)\n",
    "plt.plot(records_gmm,'.r',markersize=8)\n",
    "# plt.plot(records_svc,'.g',markersize=5)\n",
    "# plt.plot(records_nusvc,'.c',markersize=5)\n",
    "# plt.plot(records_knn,'.m',markersize=5)\n",
    "# plt.plot(records_lr,'.y',markersize=5)\n",
    "\n",
    "plt.grid()"
   ]
  },
  {
   "cell_type": "code",
   "execution_count": 15,
   "metadata": {},
   "outputs": [],
   "source": [
    "# plt.hist(preds,bins=100)\n",
    "# plt.title('Final Test.csv predictions')\n",
    "# plt.show()\n",
    "\n",
    "sub = pd.read_csv('../input/sample_submission.csv')\n",
    "sub['target'] = preds\n",
    "sub.to_csv('submission.csv',index=False)"
   ]
  },
  {
   "cell_type": "code",
   "execution_count": 30,
   "metadata": {},
   "outputs": [],
   "source": [
    "records_qda.sort()"
   ]
  },
  {
   "cell_type": "code",
   "execution_count": 35,
   "metadata": {},
   "outputs": [
    {
     "data": {
      "text/plain": [
       "array([374, 251, 356, 321, 508, 458, 166, 449,  87, 104, 268, 388, 349,\n",
       "       346, 175, 373, 262, 125, 419, 510, 144, 206, 320,   7, 195, 129,\n",
       "       329, 369, 197, 495, 368, 312, 427, 372, 273, 107, 422,  27, 221,\n",
       "       264, 499, 258, 436, 501, 172, 263, 271,  96, 234, 457,  89, 412,\n",
       "       394, 383, 131, 103, 491, 293,  79, 152, 381, 222, 130, 424, 465,\n",
       "        81, 377, 287, 149, 355, 511, 193, 162, 228,  93, 371, 343, 208,\n",
       "       207, 233, 411,  94, 443, 454, 230,  95, 100, 272, 198, 316, 500,\n",
       "       328, 243, 471, 357, 342,  24, 344,  62, 498, 467, 237, 261, 105,\n",
       "       313, 380,  99, 403, 114, 384, 348, 247, 480,  78, 497, 296, 324,\n",
       "       145, 489, 306, 481, 486, 469, 266, 387, 487, 143, 375,  85, 235,\n",
       "       211, 213, 431,  49, 270, 231, 410,  43, 428, 120,  42,  54, 225,\n",
       "       509, 435, 478, 174, 309, 102, 446, 386, 502,  92, 295, 190,   9,\n",
       "       289, 278,   0,  46, 150, 400,   1, 179, 115, 122, 378, 252, 187,\n",
       "       398,  31, 151,  61, 462, 426, 432, 317,  82,  65,  67,   5, 407,\n",
       "        59, 421, 415, 297, 363, 504, 506, 224, 229,  72, 393,  74, 232,\n",
       "       249, 139, 142, 311, 402,  52, 161, 433,   2,  97, 194, 420, 205,\n",
       "       318, 315, 305, 354, 119, 280,  39, 358,  20, 121,  36,  45, 182,\n",
       "       242,  41, 389, 490,  25,  48, 240, 310, 279,  90, 323, 345, 430,\n",
       "        76,  53, 141, 300, 408, 294, 298, 450, 333, 399, 397, 255, 167,\n",
       "       385, 406, 332, 404, 359, 425,  68, 376, 132, 437, 505, 453, 308,\n",
       "       257, 336, 327, 158, 474,  71,   4, 367, 227,  26, 492, 188, 217,\n",
       "       335, 319,  35,  69, 244, 140, 113, 209, 314, 245, 413, 236, 438,\n",
       "       181, 483, 302, 392, 284,  60, 440, 494, 405,  33, 128, 126, 447,\n",
       "        32, 382, 177, 468, 169, 134, 226, 395, 220, 171,  28, 473,  21,\n",
       "       282, 136,  75, 291, 459, 239, 338, 362, 281,  47, 418, 110, 170,\n",
       "        84, 147, 212, 133, 307, 390, 434, 466, 200, 176, 451,  40, 148,\n",
       "       360, 112, 303,  19, 341,  63, 452, 370, 288, 159, 127, 488, 364,\n",
       "       153, 173, 201,  44, 109,  73, 185, 165, 219, 275, 445, 118,  23,\n",
       "       246, 216,  51, 456, 417, 409, 401, 290,  50, 366, 439, 250, 186,\n",
       "        57, 178, 241, 160, 460, 180,  29,  37, 283, 331, 416, 254, 223,\n",
       "        80,  91, 117, 137, 503, 146, 199, 108,  66, 479, 259, 123,  16,\n",
       "        11, 470,  12,   8, 507, 396, 214,  88, 184, 475, 253, 189, 218,\n",
       "       156, 101, 210, 260, 265, 330, 477,  98, 304, 496, 441, 326, 299,\n",
       "       163, 155, 340,  30, 463,   3, 325, 285,  18, 269, 482, 116, 442,\n",
       "       493, 455, 154,  10,  17, 196, 135,  86, 111,  15, 191, 202,  38,\n",
       "        77, 352, 365, 204, 448, 322, 351, 461, 339, 301, 138, 215, 183,\n",
       "        83,  64, 192, 164, 248, 429, 276, 347, 106, 168,  55, 334, 267,\n",
       "       485,  34,  58,  22,  70,  13,  56, 286, 464, 124, 414, 256, 484,\n",
       "       274, 423, 292, 379, 391, 353, 472, 337,   6, 444, 203, 157, 277,\n",
       "        14, 361, 476, 350, 238])"
      ]
     },
     "execution_count": 35,
     "metadata": {},
     "output_type": "execute_result"
    }
   ],
   "source": [
    "np.argsort(records_gmm)"
   ]
  },
  {
   "cell_type": "code",
   "execution_count": 24,
   "metadata": {},
   "outputs": [
    {
     "data": {
      "text/plain": [
       "(262144, 258)"
      ]
     },
     "execution_count": 24,
     "metadata": {},
     "output_type": "execute_result"
    }
   ],
   "source": [
    "train.shape\n"
   ]
  },
  {
   "cell_type": "code",
   "execution_count": 52,
   "metadata": {},
   "outputs": [
    {
     "data": {
      "text/plain": [
       "0.9654145035426258"
      ]
     },
     "execution_count": 52,
     "metadata": {},
     "output_type": "execute_result"
    }
   ],
   "source": [
    "records_gmm[59]"
   ]
  },
  {
   "cell_type": "code",
   "execution_count": null,
   "metadata": {},
   "outputs": [],
   "source": []
  },
  {
   "cell_type": "code",
   "execution_count": null,
   "metadata": {},
   "outputs": [],
   "source": []
  },
  {
   "cell_type": "code",
   "execution_count": null,
   "metadata": {},
   "outputs": [],
   "source": []
  },
  {
   "cell_type": "code",
   "execution_count": null,
   "metadata": {},
   "outputs": [],
   "source": []
  },
  {
   "cell_type": "code",
   "execution_count": null,
   "metadata": {},
   "outputs": [],
   "source": []
  },
  {
   "cell_type": "code",
   "execution_count": null,
   "metadata": {},
   "outputs": [],
   "source": []
  },
  {
   "cell_type": "code",
   "execution_count": null,
   "metadata": {},
   "outputs": [],
   "source": []
  },
  {
   "cell_type": "code",
   "execution_count": null,
   "metadata": {},
   "outputs": [],
   "source": []
  },
  {
   "cell_type": "code",
   "execution_count": null,
   "metadata": {},
   "outputs": [],
   "source": []
  },
  {
   "cell_type": "code",
   "execution_count": null,
   "metadata": {},
   "outputs": [],
   "source": []
  },
  {
   "cell_type": "code",
   "execution_count": null,
   "metadata": {},
   "outputs": [],
   "source": []
  },
  {
   "cell_type": "code",
   "execution_count": null,
   "metadata": {},
   "outputs": [],
   "source": []
  },
  {
   "cell_type": "code",
   "execution_count": null,
   "metadata": {},
   "outputs": [],
   "source": []
  },
  {
   "cell_type": "code",
   "execution_count": null,
   "metadata": {},
   "outputs": [],
   "source": []
  },
  {
   "cell_type": "code",
   "execution_count": null,
   "metadata": {},
   "outputs": [],
   "source": []
  },
  {
   "cell_type": "code",
   "execution_count": null,
   "metadata": {},
   "outputs": [],
   "source": []
  },
  {
   "cell_type": "code",
   "execution_count": null,
   "metadata": {},
   "outputs": [],
   "source": []
  },
  {
   "cell_type": "code",
   "execution_count": null,
   "metadata": {},
   "outputs": [],
   "source": []
  },
  {
   "cell_type": "code",
   "execution_count": null,
   "metadata": {},
   "outputs": [],
   "source": []
  },
  {
   "cell_type": "code",
   "execution_count": null,
   "metadata": {},
   "outputs": [],
   "source": []
  },
  {
   "cell_type": "code",
   "execution_count": null,
   "metadata": {},
   "outputs": [],
   "source": []
  },
  {
   "cell_type": "code",
   "execution_count": null,
   "metadata": {},
   "outputs": [],
   "source": []
  },
  {
   "cell_type": "code",
   "execution_count": null,
   "metadata": {},
   "outputs": [],
   "source": []
  },
  {
   "cell_type": "code",
   "execution_count": null,
   "metadata": {},
   "outputs": [],
   "source": []
  },
  {
   "cell_type": "code",
   "execution_count": null,
   "metadata": {},
   "outputs": [],
   "source": []
  },
  {
   "cell_type": "code",
   "execution_count": null,
   "metadata": {},
   "outputs": [],
   "source": []
  },
  {
   "cell_type": "code",
   "execution_count": null,
   "metadata": {},
   "outputs": [],
   "source": []
  },
  {
   "cell_type": "code",
   "execution_count": null,
   "metadata": {},
   "outputs": [],
   "source": []
  },
  {
   "cell_type": "code",
   "execution_count": null,
   "metadata": {},
   "outputs": [],
   "source": []
  },
  {
   "cell_type": "code",
   "execution_count": null,
   "metadata": {},
   "outputs": [],
   "source": []
  },
  {
   "cell_type": "code",
   "execution_count": null,
   "metadata": {},
   "outputs": [],
   "source": []
  },
  {
   "cell_type": "code",
   "execution_count": null,
   "metadata": {},
   "outputs": [],
   "source": []
  },
  {
   "cell_type": "code",
   "execution_count": null,
   "metadata": {},
   "outputs": [],
   "source": []
  },
  {
   "cell_type": "code",
   "execution_count": null,
   "metadata": {},
   "outputs": [],
   "source": []
  },
  {
   "cell_type": "code",
   "execution_count": null,
   "metadata": {},
   "outputs": [],
   "source": []
  }
 ],
 "metadata": {
  "kernelspec": {
   "display_name": "Python 3",
   "language": "python",
   "name": "python3"
  },
  "language_info": {
   "codemirror_mode": {
    "name": "ipython",
    "version": 3
   },
   "file_extension": ".py",
   "mimetype": "text/x-python",
   "name": "python",
   "nbconvert_exporter": "python",
   "pygments_lexer": "ipython3",
   "version": "3.7.3"
  }
 },
 "nbformat": 4,
 "nbformat_minor": 2
}
